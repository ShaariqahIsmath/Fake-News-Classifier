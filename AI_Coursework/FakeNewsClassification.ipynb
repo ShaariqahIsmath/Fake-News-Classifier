{
 "cells": [
  {
   "cell_type": "markdown",
   "metadata": {},
   "source": [
    "## 6COSC00W - Applied AI CourseWork\n",
    "\n",
    "#### Project Title - \"Fake News Detector\"\n",
    "#### Research Domain - \"News publishing and Writing\"\n"
   ]
  },
  {
   "cell_type": "markdown",
   "metadata": {},
   "source": [
    "# PART - A\n",
    "\n",
    "#### Problem and Research Domain\n",
    "\n",
    "\n",
    "\n",
    "'News Publishing and Writing' is this project's target domain. The process of drafting, editing, and disseminating news stories and reports is known as news publishing and writing. This might entail conducting research and gathering information, interviewing sources, creating and editing material, and releasing it via different channels such as newspapers, websites, and social media.\n",
    "AI (Artificial Intelligence) may be used in this field in a variety of ways, including content selection and recommendation, automated news generating, and even fact-checking and verification of news stories, where AI is used to by spotting any errors or bias in the material. \n",
    "The identification and categorization of fake news is within the realm of the aforementioned target domain.\n",
    "\n",
    "<img src=\"images/fakenews.jpg\" width=\"300\" height=\"200\">\n",
    "\n",
    "Fake news is circulated by a wide range of people, including individuals, organizations, and even governments, for a number of objectives, including financial gain, political manipulation, or just to sow chaos and confusion.\n",
    "\n",
    "It is spread through a variety of channels, including social media, where users are more likely to click on and share sensational or shocking headlines, websites and blogs that are designed to disseminate false information, email and messaging apps where users may forward or share articles and stories without fact-checking them first, conventional news sources where stories are published without fact-checking them first or when they knowingly publish false information, and bots and automation that can be programmed to share or post fake news on a large scale.\n",
    "\n",
    "Fake news classification is a particular work that requires training a model to identify news stories as real or fake, whereas fake news detection is a broader concept that covers activities like tracking and evaluating the spread of misinformation, as well as taking action to stop it.\n",
    "\n",
    "<img src=\"images/newsclassification.jpg\" width=\"300\" height=\"200\">\n",
    "\n",
    "Several studies and articles have been published on how AI is being used in fact checking and news verification.\n",
    "One research applied artificial intelligence to help in fact-checking news articles by identifying probable errors or bias in the material. The technology correctly identified misinformation and suggested fixes. (Kaliyar, 2018)\n",
    "\n",
    "Another method is to utilize natural language processing (NLP) tools to evaluate the language used in news items and uncover probable errors or bias. By evaluating the language used in the articles, one research employed NLP (Natural Language Processing) to assess news stories and identify erroneous or misleading information. (Lee et al., 2019)\n",
    "\n",
    "This project entails categorizing false news that circulates on social media and news channels. Kaggle was used to compile datasets of authentic and fraudulent news from various sources. The implementation entails using Natural Language Processing (NLP) techniques such as Text Classification in the preprocessing step, to process the text input into the model. The Bi-Directional LSTM (Long Short Term Memory), a form of RNN (Recurrent Neural Network), is then used in a Deep Learning (DL) technique.\n"
   ]
  },
  {
   "cell_type": "code",
   "execution_count": 185,
   "metadata": {},
   "outputs": [],
   "source": [
    "# importing the necessary libraries, modules and platforms\n",
    "\n",
    "import pandas as pd\n",
    "import numpy as np\n",
    "import nltk\n",
    "\n",
    "import re\n",
    "from nltk.corpus import stopwords\n",
    "from nltk.stem.porter import PorterStemmer\n",
    "\n",
    "import seaborn as sns\n",
    "import matplotlib.pyplot as plt\n",
    "\n",
    "import tensorflow as tf\n",
    "from tensorflow.keras.layers import Embedding\n",
    "from tensorflow.keras.preprocessing.sequence import pad_sequences\n",
    "from tensorflow.keras.models import Sequential\n",
    "from tensorflow.keras.preprocessing.text import one_hot\n",
    "from tensorflow.keras.layers import LSTM\n",
    "from tensorflow.keras.layers import Dense\n",
    "from tensorflow.keras.layers import Bidirectional\n",
    "from tensorflow.keras.layers import Dropout\n",
    "from tensorflow.keras.models import load_model\n",
    "\n",
    "\n",
    "\n",
    "from sklearn.model_selection import train_test_split\n",
    "from sklearn.metrics import confusion_matrix\n",
    "from sklearn.metrics import classification_report\n",
    "from sklearn.metrics import accuracy_score\n",
    "from sklearn.preprocessing import LabelEncoder\n",
    "from sklearn.metrics import confusion_matrix\n"
   ]
  },
  {
   "cell_type": "code",
   "execution_count": 186,
   "metadata": {},
   "outputs": [
    {
     "data": {
      "text/html": [
       "<div>\n",
       "<style scoped>\n",
       "    .dataframe tbody tr th:only-of-type {\n",
       "        vertical-align: middle;\n",
       "    }\n",
       "\n",
       "    .dataframe tbody tr th {\n",
       "        vertical-align: top;\n",
       "    }\n",
       "\n",
       "    .dataframe thead th {\n",
       "        text-align: right;\n",
       "    }\n",
       "</style>\n",
       "<table border=\"1\" class=\"dataframe\">\n",
       "  <thead>\n",
       "    <tr style=\"text-align: right;\">\n",
       "      <th></th>\n",
       "      <th>id</th>\n",
       "      <th>title</th>\n",
       "      <th>author</th>\n",
       "      <th>text</th>\n",
       "      <th>label</th>\n",
       "    </tr>\n",
       "  </thead>\n",
       "  <tbody>\n",
       "    <tr>\n",
       "      <th>0</th>\n",
       "      <td>0</td>\n",
       "      <td>House Dem Aide: We Didn’t Even See Comey’s Let...</td>\n",
       "      <td>Darrell Lucus</td>\n",
       "      <td>House Dem Aide: We Didn’t Even See Comey’s Let...</td>\n",
       "      <td>1</td>\n",
       "    </tr>\n",
       "    <tr>\n",
       "      <th>1</th>\n",
       "      <td>1</td>\n",
       "      <td>FLYNN: Hillary Clinton, Big Woman on Campus - ...</td>\n",
       "      <td>Daniel J. Flynn</td>\n",
       "      <td>Ever get the feeling your life circles the rou...</td>\n",
       "      <td>0</td>\n",
       "    </tr>\n",
       "    <tr>\n",
       "      <th>2</th>\n",
       "      <td>2</td>\n",
       "      <td>Why the Truth Might Get You Fired</td>\n",
       "      <td>Consortiumnews.com</td>\n",
       "      <td>Why the Truth Might Get You Fired October 29, ...</td>\n",
       "      <td>1</td>\n",
       "    </tr>\n",
       "    <tr>\n",
       "      <th>3</th>\n",
       "      <td>3</td>\n",
       "      <td>15 Civilians Killed In Single US Airstrike Hav...</td>\n",
       "      <td>Jessica Purkiss</td>\n",
       "      <td>Videos 15 Civilians Killed In Single US Airstr...</td>\n",
       "      <td>1</td>\n",
       "    </tr>\n",
       "    <tr>\n",
       "      <th>4</th>\n",
       "      <td>4</td>\n",
       "      <td>Iranian woman jailed for fictional unpublished...</td>\n",
       "      <td>Howard Portnoy</td>\n",
       "      <td>Print \\nAn Iranian woman has been sentenced to...</td>\n",
       "      <td>1</td>\n",
       "    </tr>\n",
       "  </tbody>\n",
       "</table>\n",
       "</div>"
      ],
      "text/plain": [
       "   id                                              title              author  \\\n",
       "0   0  House Dem Aide: We Didn’t Even See Comey’s Let...       Darrell Lucus   \n",
       "1   1  FLYNN: Hillary Clinton, Big Woman on Campus - ...     Daniel J. Flynn   \n",
       "2   2                  Why the Truth Might Get You Fired  Consortiumnews.com   \n",
       "3   3  15 Civilians Killed In Single US Airstrike Hav...     Jessica Purkiss   \n",
       "4   4  Iranian woman jailed for fictional unpublished...      Howard Portnoy   \n",
       "\n",
       "                                                text  label  \n",
       "0  House Dem Aide: We Didn’t Even See Comey’s Let...      1  \n",
       "1  Ever get the feeling your life circles the rou...      0  \n",
       "2  Why the Truth Might Get You Fired October 29, ...      1  \n",
       "3  Videos 15 Civilians Killed In Single US Airstr...      1  \n",
       "4  Print \\nAn Iranian woman has been sentenced to...      1  "
      ]
     },
     "execution_count": 186,
     "metadata": {},
     "output_type": "execute_result"
    }
   ],
   "source": [
    "# read both training data and testing data\n",
    "\n",
    "train_df = pd.read_csv('train.csv')\n",
    "test_df = pd.read_csv('test.csv')\n",
    "\n",
    "\n",
    "# display the first 5 data points in the training dataset\n",
    "train_df.head()"
   ]
  },
  {
   "cell_type": "markdown",
   "metadata": {},
   "source": [
    "# PART - B\n",
    "\n",
    "\n",
    "The classification of news is the subject of this study (Real or Fake).\n",
    "\n",
    "Data science may be used in a variety of ways to identify fake news. One strategy is to evaluate the content of articles using natural language processing (NLP) tools to look for patterns or traits that indicate false news. NLP, for instance, may be used to spot sensational language, clickbait headlines, and a lack of reliable sources.\n",
    "\n",
    "For many of its functions, deep learning algorithms are widely utilized in the AI area of natural language processing (NLP).\n",
    "\n",
    "Another strategy is to utilize ML and DL algorithms to categorize articles as authentic or fraudulent based on characteristics like the text, the source, or the level of social media activity. The classifier may be utilized to determine whether or not new articles are authentic after being trained on a dataset of labeled articles. To identify false news, one can employ a mix of these techniques and others.\n",
    "\n",
    "Within the larger field of artificial intelligence (AI), there are two related but separate topics called machine learning (ML) and deep learning (DL). The creation of algorithms and models that can learn from data and make predictions or judgments without being explicitly programmed is known as machine learning (ML), and it is a subset of artificial intelligence.\n",
    "\n",
    "Deep Neural Networks (DNNs) are networks of artificial neurons created to mimic the functioning of the human brain. Deep Learning (DL) is a subset of Machine Learning (ML) that uses DNNs. Natural language processing, speech and picture recognition, as well as other jobs requiring a significant quantity of data, are particularly well suited for DL algorithms.\n",
    "\n",
    "\n",
    "For various reasons, including the following, deep learning (DL) can be more accurate than conventional machine learning (ML) at spotting fake news:\n",
    "\n",
    "-\tHandling a lot of data: This may be helpful in identifying false news since the algorithms can examine the text in the news story as well as any photographs, videos, and other multimedia components that are included.\n",
    "\n",
    "-\tHandling structured data: This can be helpful in spotting false news since the information in the structured data can be utilized to confirm the accuracy of the article.\n",
    "\n",
    "-\tHandling complex patterns: This might be helpful in spotting fake news since some patterns in the text may be a sign of inaccurate information.\n",
    "\n",
    "-\tHandling sequential data: DL algorithms are able to comprehend the text's context and identify patterns in the data that conventional machine learning algorithms could miss.\n"
   ]
  },
  {
   "cell_type": "markdown",
   "metadata": {},
   "source": [
    "\n",
    "Following the revelation that DL outperforms ML in classifying news as fake or true, a number of deep learning (DL) algorithms may be applied to identify fake news, including:\n",
    "\n",
    "1.\tRNNs - are a class of deep learning algorithms that are useful for analyzing sequential data, including text. They have been demonstrated to achieve great accuracy in identifying false news and may be used to categorize articles as authentic or fake based on the language.\n",
    "\n",
    "\n",
    "2.\tCNNs - CNNs are a subset of deep learning algorithms that are useful for analyzing image and video data. They are capable of spotting altered pictures or videos that may be used in false news reports. They have been demonstrated to attain high accuracy in identifying false news and perform well with vast volumes of text data, therefore they are also employed for text classification tasks.\n",
    "\n",
    "\n",
    "3.\tTransformer-based models, including BERT and GPT, are a kind of DL algorithm that may be utilized to examine text data. They may be used to comprehend the text's context and spot trends that can point to bogus news.\n",
    "\n",
    "\n",
    "\n",
    "Given that the DL algorithms stated above have strengths that correspond to their advantages and weaknesses that correspond to their disadvantages, a single table has been created to present all relevant data regarding the benefits and drawbacks of the algorithms.\n",
    "\n",
    "<img src=\"images/Advantages_Disadvantages_Table.jpg\" width=\"600\" height=\"900\">\n"
   ]
  },
  {
   "cell_type": "markdown",
   "metadata": {},
   "source": [
    "### Data Pre-Processing"
   ]
  },
  {
   "cell_type": "code",
   "execution_count": 187,
   "metadata": {},
   "outputs": [],
   "source": [
    "# remove all rows consisting of null values\n",
    "train_df = train_df.dropna()"
   ]
  },
  {
   "cell_type": "code",
   "execution_count": 188,
   "metadata": {},
   "outputs": [
    {
     "data": {
      "text/plain": [
       "0    10361\n",
       "1     7924\n",
       "Name: label, dtype: int64"
      ]
     },
     "execution_count": 188,
     "metadata": {},
     "output_type": "execute_result"
    }
   ],
   "source": [
    "# independent features\n",
    "\n",
    "x = train_df.drop('label', axis = 1)\n",
    "\n",
    "# dependent features\n",
    "y = train_df['label']\n",
    "\n",
    "y.value_counts()"
   ]
  },
  {
   "cell_type": "code",
   "execution_count": 189,
   "metadata": {},
   "outputs": [
    {
     "data": {
      "text/html": [
       "<div>\n",
       "<style scoped>\n",
       "    .dataframe tbody tr th:only-of-type {\n",
       "        vertical-align: middle;\n",
       "    }\n",
       "\n",
       "    .dataframe tbody tr th {\n",
       "        vertical-align: top;\n",
       "    }\n",
       "\n",
       "    .dataframe thead th {\n",
       "        text-align: right;\n",
       "    }\n",
       "</style>\n",
       "<table border=\"1\" class=\"dataframe\">\n",
       "  <thead>\n",
       "    <tr style=\"text-align: right;\">\n",
       "      <th></th>\n",
       "      <th>index</th>\n",
       "      <th>id</th>\n",
       "      <th>title</th>\n",
       "      <th>author</th>\n",
       "      <th>text</th>\n",
       "    </tr>\n",
       "  </thead>\n",
       "  <tbody>\n",
       "    <tr>\n",
       "      <th>0</th>\n",
       "      <td>0</td>\n",
       "      <td>0</td>\n",
       "      <td>House Dem Aide: We Didn’t Even See Comey’s Let...</td>\n",
       "      <td>Darrell Lucus</td>\n",
       "      <td>House Dem Aide: We Didn’t Even See Comey’s Let...</td>\n",
       "    </tr>\n",
       "    <tr>\n",
       "      <th>1</th>\n",
       "      <td>1</td>\n",
       "      <td>1</td>\n",
       "      <td>FLYNN: Hillary Clinton, Big Woman on Campus - ...</td>\n",
       "      <td>Daniel J. Flynn</td>\n",
       "      <td>Ever get the feeling your life circles the rou...</td>\n",
       "    </tr>\n",
       "    <tr>\n",
       "      <th>2</th>\n",
       "      <td>2</td>\n",
       "      <td>2</td>\n",
       "      <td>Why the Truth Might Get You Fired</td>\n",
       "      <td>Consortiumnews.com</td>\n",
       "      <td>Why the Truth Might Get You Fired October 29, ...</td>\n",
       "    </tr>\n",
       "    <tr>\n",
       "      <th>3</th>\n",
       "      <td>3</td>\n",
       "      <td>3</td>\n",
       "      <td>15 Civilians Killed In Single US Airstrike Hav...</td>\n",
       "      <td>Jessica Purkiss</td>\n",
       "      <td>Videos 15 Civilians Killed In Single US Airstr...</td>\n",
       "    </tr>\n",
       "    <tr>\n",
       "      <th>4</th>\n",
       "      <td>4</td>\n",
       "      <td>4</td>\n",
       "      <td>Iranian woman jailed for fictional unpublished...</td>\n",
       "      <td>Howard Portnoy</td>\n",
       "      <td>Print \\nAn Iranian woman has been sentenced to...</td>\n",
       "    </tr>\n",
       "    <tr>\n",
       "      <th>5</th>\n",
       "      <td>5</td>\n",
       "      <td>5</td>\n",
       "      <td>Jackie Mason: Hollywood Would Love Trump if He...</td>\n",
       "      <td>Daniel Nussbaum</td>\n",
       "      <td>In these trying times, Jackie Mason is the Voi...</td>\n",
       "    </tr>\n",
       "    <tr>\n",
       "      <th>6</th>\n",
       "      <td>7</td>\n",
       "      <td>7</td>\n",
       "      <td>Benoît Hamon Wins French Socialist Party’s Pre...</td>\n",
       "      <td>Alissa J. Rubin</td>\n",
       "      <td>PARIS  —   France chose an idealistic, traditi...</td>\n",
       "    </tr>\n",
       "    <tr>\n",
       "      <th>7</th>\n",
       "      <td>9</td>\n",
       "      <td>9</td>\n",
       "      <td>A Back-Channel Plan for Ukraine and Russia, Co...</td>\n",
       "      <td>Megan Twohey and Scott Shane</td>\n",
       "      <td>A week before Michael T. Flynn resigned as nat...</td>\n",
       "    </tr>\n",
       "    <tr>\n",
       "      <th>8</th>\n",
       "      <td>10</td>\n",
       "      <td>10</td>\n",
       "      <td>Obama’s Organizing for Action Partners with So...</td>\n",
       "      <td>Aaron Klein</td>\n",
       "      <td>Organizing for Action, the activist group that...</td>\n",
       "    </tr>\n",
       "    <tr>\n",
       "      <th>9</th>\n",
       "      <td>11</td>\n",
       "      <td>11</td>\n",
       "      <td>BBC Comedy Sketch \"Real Housewives of ISIS\" Ca...</td>\n",
       "      <td>Chris Tomlinson</td>\n",
       "      <td>The BBC produced spoof on the “Real Housewives...</td>\n",
       "    </tr>\n",
       "    <tr>\n",
       "      <th>10</th>\n",
       "      <td>12</td>\n",
       "      <td>12</td>\n",
       "      <td>Russian Researchers Discover Secret Nazi Milit...</td>\n",
       "      <td>Amando Flavio</td>\n",
       "      <td>The mystery surrounding The Third Reich and Na...</td>\n",
       "    </tr>\n",
       "    <tr>\n",
       "      <th>11</th>\n",
       "      <td>13</td>\n",
       "      <td>13</td>\n",
       "      <td>US Officials See No Link Between Trump and Russia</td>\n",
       "      <td>Jason Ditz</td>\n",
       "      <td>Clinton Campaign Demands FBI Affirm Trump's Ru...</td>\n",
       "    </tr>\n",
       "    <tr>\n",
       "      <th>12</th>\n",
       "      <td>14</td>\n",
       "      <td>14</td>\n",
       "      <td>Re: Yes, There Are Paid Government Trolls On S...</td>\n",
       "      <td>AnotherAnnie</td>\n",
       "      <td>Yes, There Are Paid Government Trolls On Socia...</td>\n",
       "    </tr>\n",
       "    <tr>\n",
       "      <th>13</th>\n",
       "      <td>15</td>\n",
       "      <td>15</td>\n",
       "      <td>In Major League Soccer, Argentines Find a Home...</td>\n",
       "      <td>Jack Williams</td>\n",
       "      <td>Guillermo Barros Schelotto was not the first A...</td>\n",
       "    </tr>\n",
       "    <tr>\n",
       "      <th>14</th>\n",
       "      <td>16</td>\n",
       "      <td>16</td>\n",
       "      <td>Wells Fargo Chief Abruptly Steps Down - The Ne...</td>\n",
       "      <td>Michael Corkery and Stacy Cowley</td>\n",
       "      <td>The scandal engulfing Wells Fargo toppled its ...</td>\n",
       "    </tr>\n",
       "    <tr>\n",
       "      <th>15</th>\n",
       "      <td>17</td>\n",
       "      <td>17</td>\n",
       "      <td>Anonymous Donor Pays $2.5 Million To Release E...</td>\n",
       "      <td>Starkman</td>\n",
       "      <td>A Caddo Nation tribal leader has just been fre...</td>\n",
       "    </tr>\n",
       "    <tr>\n",
       "      <th>16</th>\n",
       "      <td>18</td>\n",
       "      <td>18</td>\n",
       "      <td>FBI Closes In On Hillary!</td>\n",
       "      <td>The Doc</td>\n",
       "      <td>FBI Closes In On Hillary! Posted on Home » Hea...</td>\n",
       "    </tr>\n",
       "    <tr>\n",
       "      <th>17</th>\n",
       "      <td>19</td>\n",
       "      <td>19</td>\n",
       "      <td>Chuck Todd: ’BuzzFeed Did Donald Trump a Polit...</td>\n",
       "      <td>Jeff Poor</td>\n",
       "      <td>Wednesday after   Donald Trump’s press confere...</td>\n",
       "    </tr>\n",
       "    <tr>\n",
       "      <th>18</th>\n",
       "      <td>21</td>\n",
       "      <td>21</td>\n",
       "      <td>Monica Lewinsky, Clinton Sex Scandal Set for ’...</td>\n",
       "      <td>Jerome Hudson</td>\n",
       "      <td>Screenwriter Ryan Murphy, who has produced the...</td>\n",
       "    </tr>\n",
       "    <tr>\n",
       "      <th>19</th>\n",
       "      <td>22</td>\n",
       "      <td>22</td>\n",
       "      <td>Rob Reiner: Trump Is ’Mentally Unstable’ - Bre...</td>\n",
       "      <td>Pam Key</td>\n",
       "      <td>Sunday on MSNBC’s “AM Joy,” actor and director...</td>\n",
       "    </tr>\n",
       "  </tbody>\n",
       "</table>\n",
       "</div>"
      ],
      "text/plain": [
       "    index  id                                              title  \\\n",
       "0       0   0  House Dem Aide: We Didn’t Even See Comey’s Let...   \n",
       "1       1   1  FLYNN: Hillary Clinton, Big Woman on Campus - ...   \n",
       "2       2   2                  Why the Truth Might Get You Fired   \n",
       "3       3   3  15 Civilians Killed In Single US Airstrike Hav...   \n",
       "4       4   4  Iranian woman jailed for fictional unpublished...   \n",
       "5       5   5  Jackie Mason: Hollywood Would Love Trump if He...   \n",
       "6       7   7  Benoît Hamon Wins French Socialist Party’s Pre...   \n",
       "7       9   9  A Back-Channel Plan for Ukraine and Russia, Co...   \n",
       "8      10  10  Obama’s Organizing for Action Partners with So...   \n",
       "9      11  11  BBC Comedy Sketch \"Real Housewives of ISIS\" Ca...   \n",
       "10     12  12  Russian Researchers Discover Secret Nazi Milit...   \n",
       "11     13  13  US Officials See No Link Between Trump and Russia   \n",
       "12     14  14  Re: Yes, There Are Paid Government Trolls On S...   \n",
       "13     15  15  In Major League Soccer, Argentines Find a Home...   \n",
       "14     16  16  Wells Fargo Chief Abruptly Steps Down - The Ne...   \n",
       "15     17  17  Anonymous Donor Pays $2.5 Million To Release E...   \n",
       "16     18  18                          FBI Closes In On Hillary!   \n",
       "17     19  19  Chuck Todd: ’BuzzFeed Did Donald Trump a Polit...   \n",
       "18     21  21  Monica Lewinsky, Clinton Sex Scandal Set for ’...   \n",
       "19     22  22  Rob Reiner: Trump Is ’Mentally Unstable’ - Bre...   \n",
       "\n",
       "                              author  \\\n",
       "0                      Darrell Lucus   \n",
       "1                    Daniel J. Flynn   \n",
       "2                 Consortiumnews.com   \n",
       "3                    Jessica Purkiss   \n",
       "4                     Howard Portnoy   \n",
       "5                    Daniel Nussbaum   \n",
       "6                    Alissa J. Rubin   \n",
       "7       Megan Twohey and Scott Shane   \n",
       "8                        Aaron Klein   \n",
       "9                    Chris Tomlinson   \n",
       "10                     Amando Flavio   \n",
       "11                        Jason Ditz   \n",
       "12                      AnotherAnnie   \n",
       "13                     Jack Williams   \n",
       "14  Michael Corkery and Stacy Cowley   \n",
       "15                          Starkman   \n",
       "16                           The Doc   \n",
       "17                         Jeff Poor   \n",
       "18                     Jerome Hudson   \n",
       "19                           Pam Key   \n",
       "\n",
       "                                                 text  \n",
       "0   House Dem Aide: We Didn’t Even See Comey’s Let...  \n",
       "1   Ever get the feeling your life circles the rou...  \n",
       "2   Why the Truth Might Get You Fired October 29, ...  \n",
       "3   Videos 15 Civilians Killed In Single US Airstr...  \n",
       "4   Print \\nAn Iranian woman has been sentenced to...  \n",
       "5   In these trying times, Jackie Mason is the Voi...  \n",
       "6   PARIS  —   France chose an idealistic, traditi...  \n",
       "7   A week before Michael T. Flynn resigned as nat...  \n",
       "8   Organizing for Action, the activist group that...  \n",
       "9   The BBC produced spoof on the “Real Housewives...  \n",
       "10  The mystery surrounding The Third Reich and Na...  \n",
       "11  Clinton Campaign Demands FBI Affirm Trump's Ru...  \n",
       "12  Yes, There Are Paid Government Trolls On Socia...  \n",
       "13  Guillermo Barros Schelotto was not the first A...  \n",
       "14  The scandal engulfing Wells Fargo toppled its ...  \n",
       "15  A Caddo Nation tribal leader has just been fre...  \n",
       "16  FBI Closes In On Hillary! Posted on Home » Hea...  \n",
       "17  Wednesday after   Donald Trump’s press confere...  \n",
       "18  Screenwriter Ryan Murphy, who has produced the...  \n",
       "19  Sunday on MSNBC’s “AM Joy,” actor and director...  "
      ]
     },
     "execution_count": 189,
     "metadata": {},
     "output_type": "execute_result"
    }
   ],
   "source": [
    "# keep the vocabulary size limited, for accuracy decreases if the vocubulary size increases.\n",
    "vocabulary_size = 5000 \n",
    "\n",
    "new_table = x.copy()\n",
    "new_table.reset_index(inplace=True) # since the null values were removed, indexes will disordered and so indexes have been reset.\n",
    "new_table.head(20)"
   ]
  },
  {
   "cell_type": "code",
   "execution_count": 190,
   "metadata": {},
   "outputs": [],
   "source": [
    "stemmer = PorterStemmer()\n",
    "corpus = [] # consists of rows of stemmed words\n",
    "\n",
    "for i in range(0, len(new_table)):\n",
    "    \n",
    "    review = re.sub('[^A-Za-z]', ' ', new_table['title'][i])\n",
    "    review = review.lower()\n",
    "    review = review.split()\n",
    "    \n",
    "    review = [stemmer.stem(word) for word in review if not word in stopwords.words('english')]\n",
    "\n",
    "    review = ' '.join(review)\n",
    "    corpus.append(review)\n",
    "\n"
   ]
  },
  {
   "cell_type": "code",
   "execution_count": 195,
   "metadata": {},
   "outputs": [
    {
     "data": {
      "text/plain": [
       "'hous dem aid even see comey letter jason chaffetz tweet'"
      ]
     },
     "execution_count": 195,
     "metadata": {},
     "output_type": "execute_result"
    }
   ],
   "source": [
    "corpus[0] # displays the stemmed and cleaned data in the 'title' column of the first data point."
   ]
  },
  {
   "cell_type": "markdown",
   "metadata": {},
   "source": [
    "##### Onehot Representation"
   ]
  },
  {
   "cell_type": "code",
   "execution_count": 192,
   "metadata": {},
   "outputs": [
    {
     "data": {
      "text/plain": [
       "[[2601, 114, 4432, 1382, 525, 3828, 2675, 3822, 1478, 2902],\n",
       " [1263, 4728, 722, 180, 2522, 2553, 3477],\n",
       " [4628, 988, 2527, 1358],\n",
       " [3017, 4535, 4866, 388, 4836, 1528],\n",
       " [873, 2522, 363, 2315, 2680, 2771, 2522, 3436, 4965, 1430]]"
      ]
     },
     "execution_count": 192,
     "metadata": {},
     "output_type": "execute_result"
    }
   ],
   "source": [
    "# A unique value (in integers) is assigned to each word in the corpus list\n",
    "onehot_representation = [one_hot(words, vocabulary_size)for words in corpus]\n",
    "onehot_representation[0:5]"
   ]
  },
  {
   "cell_type": "markdown",
   "metadata": {},
   "source": [
    "##### Embedding Representation"
   ]
  },
  {
   "cell_type": "code",
   "execution_count": 196,
   "metadata": {},
   "outputs": [
    {
     "data": {
      "text/plain": [
       "array([[   0,    0,    0, ..., 3822, 1478, 2902],\n",
       "       [   0,    0,    0, ..., 2522, 2553, 3477],\n",
       "       [   0,    0,    0, ...,  988, 2527, 1358],\n",
       "       ...,\n",
       "       [   0,    0,    0, ..., 3479, 4764, 2569],\n",
       "       [   0,    0,    0, ...,  198,  126, 1012],\n",
       "       [   0,    0,    0, ...,  481, 2704, 3386]])"
      ]
     },
     "execution_count": 196,
     "metadata": {},
     "output_type": "execute_result"
    }
   ],
   "source": [
    "sentence_length = 20\n",
    "\n",
    "embedded_layers=pad_sequences(onehot_representation,padding='pre',maxlen=sentence_length) # pads the sequence with 0s at the beginning, until the sequence has a length of 20.\n",
    "embedded_layers"
   ]
  },
  {
   "cell_type": "markdown",
   "metadata": {},
   "source": [
    "### Determining which technique to choose\n",
    "\n",
    "In comparison to other deep learning (DL) algorithms like CNNs and Transformer-based models like BERT and GPT, RNNs can be very effective in spotting fake news sinin terms of handling:\n",
    "\n",
    "-\tSequential data: For tasks involving sequential data, like text, RNNs are especially well suited. They are able to comprehend the text's context and spot patterns in the data that CNNs and models based on Transformers could miss.\n",
    "\n",
    "-\tLong-term dependencies: Long-term dependencies in the text can be handled by RNNs, especially LSTMs, which means they can take into consideration information from earlier in the text even when processing later sections of the text.\n",
    "\n",
    "-\tStructured data - By fusing sequential data with structured data, RNNs can process structured data like tables, pictures, and graphs.\n",
    "\n",
    "\n",
    "RNN has several types in addition to having been shown to be better than CNN and Transformer-based models in the classification of news. They are:\n",
    "1.\tSimple RNN - the most fundamental kind of RNN. It can handle data sequences like text or voice since it contains a single layer of recurrent neurons.\n",
    "\n",
    "2.\tLong Short-Term Memory (LSTM) - is a kind of RNN that use gates to manage the flow of information across the network and memory cells to store information from the past. For applications like language modeling, text production, and speech recognition, LSTM networks can manage long-term dependencies in the data.\n",
    "\n",
    "3.\tBidirectional RNN - processes the input sequence both forward and backward is referred to as a bidirectional RNN. This indicates that there are two distinct recurrent layers in the network, one of which processes the input sequence in a forward manner and the other of which processes it in a backward fashion. The input sequence is processed from left to right by the forward layer and from right to left by the reverse layer. The two layers' results are then combined and utilized to provide a forecast. In tasks like language modeling, text categorization, and speech recognition, the network may then take into consideration both the past and the future context of a given input.\n",
    "\n",
    "In the classification of news, RNN was preferred to CNN and Transformer-based models, therefore it was decided to use a combination of LSTM and Bidirectional RNN for this project.\n"
   ]
  },
  {
   "cell_type": "markdown",
   "metadata": {},
   "source": [
    "#### Create a model\n",
    "\n",
    "###### Note:  binary cross-entropy measures the dissimilarity between the predicted probability and true label\n",
    "###### Note: optimizer = adam, uses the gradient information to update the parameters and adapts the learning rate for each parameter"
   ]
  },
  {
   "cell_type": "code",
   "execution_count": 197,
   "metadata": {},
   "outputs": [
    {
     "name": "stdout",
     "output_type": "stream",
     "text": [
      "Model: \"sequential_3\"\n",
      "_________________________________________________________________\n",
      " Layer (type)                Output Shape              Param #   \n",
      "=================================================================\n",
      " embedding_3 (Embedding)     (None, 20, 40)            200000    \n",
      "                                                                 \n",
      " lstm_3 (LSTM)               (None, 100)               56400     \n",
      "                                                                 \n",
      " dense_3 (Dense)             (None, 1)                 101       \n",
      "                                                                 \n",
      "=================================================================\n",
      "Total params: 256,501\n",
      "Trainable params: 256,501\n",
      "Non-trainable params: 0\n",
      "_________________________________________________________________\n",
      "None\n"
     ]
    }
   ],
   "source": [
    "# embedding vectors capture the semantics of the input.\n",
    "embedding_vector_features=40 # fix the number of features needed to 40\n",
    "\n",
    "#add a sequential layer\n",
    "model1=Sequential()\n",
    "\n",
    "# add the embedding layer\n",
    "model1.add(Embedding(vocabulary_size,embedding_vector_features,input_length=sentence_length))\n",
    "\n",
    "# output of the embedding layer is fed into the LSTM layer with 100 neurons\n",
    "model1.add(LSTM(100))\n",
    "\n",
    "# a dense layer is then added, given this is text classification\n",
    "model1.add(Dense(1,activation='sigmoid')) # sigmoid, returns a value of probability 1 or probability 0\n",
    "\n",
    "# compile the model\n",
    "model1.compile(loss='binary_crossentropy',optimizer='adam',metrics=['accuracy'])\n",
    "print(model1.summary())"
   ]
  },
  {
   "cell_type": "markdown",
   "metadata": {},
   "source": [
    "                             This is the model implemented as explained in the Problem Statement\n",
    "\n",
    "\n",
    "#### Create a model by implementing the Dropout technique and Bi-Directional LSTM.\n",
    "###### Note: Dropout is a technique used to prevent overfitting"
   ]
  },
  {
   "cell_type": "code",
   "execution_count": 198,
   "metadata": {},
   "outputs": [
    {
     "name": "stdout",
     "output_type": "stream",
     "text": [
      "Model: \"sequential_4\"\n",
      "_________________________________________________________________\n",
      " Layer (type)                Output Shape              Param #   \n",
      "=================================================================\n",
      " embedding_4 (Embedding)     (None, 20, 40)            200000    \n",
      "                                                                 \n",
      " dropout_1 (Dropout)         (None, 20, 40)            0         \n",
      "                                                                 \n",
      " bidirectional_1 (Bidirectio  (None, 200)              112800    \n",
      " nal)                                                            \n",
      "                                                                 \n",
      " dense_4 (Dense)             (None, 1)                 201       \n",
      "                                                                 \n",
      "=================================================================\n",
      "Total params: 313,001\n",
      "Trainable params: 313,001\n",
      "Non-trainable params: 0\n",
      "_________________________________________________________________\n",
      "None\n"
     ]
    }
   ],
   "source": [
    "embedding_vector_features=40\n",
    "model2=Sequential()\n",
    "model2.add(Embedding(vocabulary_size,embedding_vector_features,input_length=sentence_length))\n",
    "\n",
    "# 30% of the neurons will be dropped out during the training of this model\n",
    "model2.add(Dropout(0.3))\n",
    "\n",
    "# A Bi-directional LSTM layer is added\n",
    "model2.add(Bidirectional(LSTM(100))) \n",
    "\n",
    "model2.add(Dense(1,activation='sigmoid'))\n",
    "model2.compile(loss='binary_crossentropy',optimizer='adam',metrics=['accuracy'])\n",
    "print(model2.summary())"
   ]
  },
  {
   "cell_type": "markdown",
   "metadata": {},
   "source": [
    "#### High-level architecture\n",
    "\n",
    "<img src=\"images/High-Level Architecture.jpg\" width=\"500\" height=\"800\">\n"
   ]
  },
  {
   "cell_type": "markdown",
   "metadata": {},
   "source": [
    "#### Training the model"
   ]
  },
  {
   "cell_type": "code",
   "execution_count": 199,
   "metadata": {},
   "outputs": [
    {
     "name": "stdout",
     "output_type": "stream",
     "text": [
      "size of X:  (18285, 20)\n",
      "size of y:  (18285,)\n"
     ]
    }
   ],
   "source": [
    "X = np.array(embedded_layers)\n",
    "y = np.array(y)\n",
    "\n",
    "# size is (rows,columns)\n",
    "print(\"size of X: \", X.shape)\n",
    "print(\"size of y: \", y.shape)"
   ]
  },
  {
   "cell_type": "code",
   "execution_count": 200,
   "metadata": {},
   "outputs": [
    {
     "name": "stdout",
     "output_type": "stream",
     "text": [
      "Epoch 1/10\n",
      "192/192 [==============================] - 9s 34ms/step - loss: 0.3055 - accuracy: 0.8565 - val_loss: 0.1936 - val_accuracy: 0.9193\n",
      "Epoch 2/10\n",
      "192/192 [==============================] - 7s 37ms/step - loss: 0.1420 - accuracy: 0.9440 - val_loss: 0.2244 - val_accuracy: 0.9127\n",
      "Epoch 3/10\n",
      "192/192 [==============================] - 7s 39ms/step - loss: 0.1020 - accuracy: 0.9616 - val_loss: 0.2366 - val_accuracy: 0.9145\n",
      "Epoch 4/10\n",
      "192/192 [==============================] - 9s 45ms/step - loss: 0.0777 - accuracy: 0.9742 - val_loss: 0.2522 - val_accuracy: 0.9145\n",
      "Epoch 5/10\n",
      "192/192 [==============================] - 9s 45ms/step - loss: 0.0635 - accuracy: 0.9782 - val_loss: 0.2995 - val_accuracy: 0.9099\n",
      "Epoch 6/10\n",
      "192/192 [==============================] - 7s 36ms/step - loss: 0.0517 - accuracy: 0.9831 - val_loss: 0.3588 - val_accuracy: 0.9148\n",
      "Epoch 7/10\n",
      "192/192 [==============================] - 7s 35ms/step - loss: 0.0383 - accuracy: 0.9877 - val_loss: 0.3370 - val_accuracy: 0.9133\n",
      "Epoch 8/10\n",
      "192/192 [==============================] - 7s 36ms/step - loss: 0.0309 - accuracy: 0.9910 - val_loss: 0.4125 - val_accuracy: 0.9047\n",
      "Epoch 9/10\n",
      "192/192 [==============================] - 7s 36ms/step - loss: 0.0299 - accuracy: 0.9909 - val_loss: 0.3969 - val_accuracy: 0.9125\n",
      "Epoch 10/10\n",
      "192/192 [==============================] - 6s 31ms/step - loss: 0.0238 - accuracy: 0.9927 - val_loss: 0.4301 - val_accuracy: 0.9077\n"
     ]
    },
    {
     "data": {
      "text/plain": [
       "<keras.callbacks.History at 0x25608800850>"
      ]
     },
     "execution_count": 200,
     "metadata": {},
     "output_type": "execute_result"
    }
   ],
   "source": [
    "X_train, X_test, y_train, y_test = train_test_split(X, y, test_size=0.33, random_state=42)\n",
    "model2.fit(X_train,y_train,validation_data=(X_test,y_test),epochs=10,batch_size=64)\n"
   ]
  },
  {
   "cell_type": "code",
   "execution_count": 203,
   "metadata": {},
   "outputs": [
    {
     "name": "stdout",
     "output_type": "stream",
     "text": [
      "189/189 [==============================] - 1s 5ms/step\n"
     ]
    },
    {
     "data": {
      "text/plain": [
       "array([[9.9961400e-01],\n",
       "       [1.8857518e-03],\n",
       "       [9.1311326e-03],\n",
       "       ...,\n",
       "       [4.8085081e-04],\n",
       "       [9.9757391e-01],\n",
       "       [9.7258967e-01]], dtype=float32)"
      ]
     },
     "execution_count": 203,
     "metadata": {},
     "output_type": "execute_result"
    }
   ],
   "source": [
    "check_y = model2.predict(X_test)\n",
    "check_y"
   ]
  },
  {
   "cell_type": "code",
   "execution_count": 204,
   "metadata": {},
   "outputs": [
    {
     "data": {
      "text/plain": [
       "array([1, 0, 0, ..., 0, 1, 1], dtype=int64)"
      ]
     },
     "execution_count": 204,
     "metadata": {},
     "output_type": "execute_result"
    }
   ],
   "source": [
    "check_y = (check_y > 0.5)\n",
    "check_y = check_y.reshape(-1)\n",
    "\n",
    "encoder = LabelEncoder()\n",
    "check_y = encoder.fit_transform(check_y)\n",
    "check_y"
   ]
  },
  {
   "cell_type": "markdown",
   "metadata": {},
   "source": [
    "# PART - D\n",
    "\n",
    "###### The following code has been implemented in order to test the model and therefore to check if the predicted output matches the expected output. \n",
    "\n",
    "Given the accuracy score calculated below, in the line below the plotted confusion matrix, which is a value of 0.9077, its right to say that not all tested data will predict a value that matches the expected output. \n",
    "Random 20 datapoints have been tested, and the predicted results have been compared to the expected results where:\n",
    "- if the output = 0, it is reliable\n",
    "- if the output = 1, it is fake"
   ]
  },
  {
   "cell_type": "code",
   "execution_count": 205,
   "metadata": {},
   "outputs": [
    {
     "name": "stdout",
     "output_type": "stream",
     "text": [
      "predicted output:  1 and expected output:  0\n",
      "The expected output and predicted output don't match\n",
      "\n",
      "predicted output:  1 and expected output:  1\n",
      "It is fake!\n",
      "\n",
      "predicted output:  0 and expected output:  0\n",
      "It is reliable!\n",
      "\n",
      "predicted output:  0 and expected output:  1\n",
      "The expected output and predicted output don't match\n",
      "\n",
      "predicted output:  1 and expected output:  0\n",
      "The expected output and predicted output don't match\n",
      "\n",
      "predicted output:  1 and expected output:  0\n",
      "The expected output and predicted output don't match\n",
      "\n",
      "predicted output:  0 and expected output:  1\n",
      "The expected output and predicted output don't match\n",
      "\n",
      "predicted output:  1 and expected output:  1\n",
      "It is fake!\n",
      "\n",
      "predicted output:  1 and expected output:  0\n",
      "The expected output and predicted output don't match\n",
      "\n",
      "predicted output:  0 and expected output:  1\n",
      "The expected output and predicted output don't match\n",
      "\n",
      "predicted output:  0 and expected output:  1\n",
      "The expected output and predicted output don't match\n",
      "\n",
      "predicted output:  0 and expected output:  1\n",
      "The expected output and predicted output don't match\n",
      "\n",
      "predicted output:  1 and expected output:  0\n",
      "The expected output and predicted output don't match\n",
      "\n",
      "predicted output:  0 and expected output:  0\n",
      "It is reliable!\n",
      "\n",
      "predicted output:  0 and expected output:  0\n",
      "It is reliable!\n",
      "\n",
      "predicted output:  1 and expected output:  0\n",
      "The expected output and predicted output don't match\n",
      "\n",
      "predicted output:  1 and expected output:  1\n",
      "It is fake!\n",
      "\n",
      "predicted output:  1 and expected output:  0\n",
      "The expected output and predicted output don't match\n",
      "\n",
      "predicted output:  1 and expected output:  0\n",
      "The expected output and predicted output don't match\n",
      "\n",
      "predicted output:  0 and expected output:  0\n",
      "It is reliable!\n",
      "\n",
      "predicted output:  1 and expected output:  0\n",
      "The expected output and predicted output don't match\n",
      "\n"
     ]
    }
   ],
   "source": [
    "# check if the predicted output is equal to the expected output for the first 50 datapoints in the training dataset\n",
    "\n",
    "for i in range(50,71):\n",
    "    print(\"predicted output: \",check_y[i], 'and expected output: ',y[i] )\n",
    "\n",
    "    if ((check_y[i] == y[i]) and (check_y[i] == 0)):\n",
    "        print(\"It is reliable!\")\n",
    "        print()\n",
    "\n",
    "    elif ((check_y[i] == y[i]) and (check_y[i] == 1)):\n",
    "        print(\"It is fake!\")\n",
    "        print()\n",
    "\n",
    "    else:\n",
    "        print(\"The expected output and predicted output don't match\")\n",
    "        print()\n"
   ]
  },
  {
   "cell_type": "code",
   "execution_count": 206,
   "metadata": {},
   "outputs": [
    {
     "data": {
      "text/plain": [
       "array([[3096,  323],\n",
       "       [ 234, 2382]], dtype=int64)"
      ]
     },
     "execution_count": 206,
     "metadata": {},
     "output_type": "execute_result"
    }
   ],
   "source": [
    "confusion_matrix(y_test, check_y)"
   ]
  },
  {
   "cell_type": "markdown",
   "metadata": {},
   "source": [
    "# PART - E\n",
    "\n",
    "##### the metrics calculated:\n",
    "\n",
    "<img src=\"images/metrics.jpg\" width=\"500\" height=\"800\">\n"
   ]
  },
  {
   "cell_type": "code",
   "execution_count": 207,
   "metadata": {},
   "outputs": [
    {
     "data": {
      "image/png": "[encoded data removed]",
      "text/plain": [
       "<Figure size 640x480 with 2 Axes>"
      ]
     },
     "metadata": {},
     "output_type": "display_data"
    }
   ],
   "source": [
    "# Generate the confusion matrix\n",
    "cm = confusion_matrix(y_test, check_y)\n",
    "\n",
    "# Plot the confusion matrix using seaborn\n",
    "sns.heatmap(cm, annot=True, cmap=\"coolwarm\", xticklabels=['Predicted False', 'Predicted True'], yticklabels=['Actual False', 'Actual True'])\n",
    "plt.xlabel(\"Predicted Label\")\n",
    "plt.ylabel(\"True Label\")\n",
    "plt.title(\"Confusion Matrix\")\n",
    "plt.show()"
   ]
  },
  {
   "cell_type": "code",
   "execution_count": 208,
   "metadata": {},
   "outputs": [
    {
     "data": {
      "text/plain": [
       "0.907705053852527"
      ]
     },
     "execution_count": 208,
     "metadata": {},
     "output_type": "execute_result"
    }
   ],
   "source": [
    "accuracy_score(y_test, check_y)"
   ]
  },
  {
   "cell_type": "markdown",
   "metadata": {},
   "source": [
    "### Use the saved model to test unseen data (testing dataset)"
   ]
  },
  {
   "cell_type": "code",
   "execution_count": 209,
   "metadata": {
    "scrolled": true
   },
   "outputs": [
    {
     "data": {
      "text/html": [
       "<div>\n",
       "<style scoped>\n",
       "    .dataframe tbody tr th:only-of-type {\n",
       "        vertical-align: middle;\n",
       "    }\n",
       "\n",
       "    .dataframe tbody tr th {\n",
       "        vertical-align: top;\n",
       "    }\n",
       "\n",
       "    .dataframe thead th {\n",
       "        text-align: right;\n",
       "    }\n",
       "</style>\n",
       "<table border=\"1\" class=\"dataframe\">\n",
       "  <thead>\n",
       "    <tr style=\"text-align: right;\">\n",
       "      <th></th>\n",
       "      <th>index</th>\n",
       "      <th>id</th>\n",
       "      <th>title</th>\n",
       "      <th>author</th>\n",
       "      <th>text</th>\n",
       "    </tr>\n",
       "  </thead>\n",
       "  <tbody>\n",
       "    <tr>\n",
       "      <th>0</th>\n",
       "      <td>0</td>\n",
       "      <td>20800</td>\n",
       "      <td>Specter of Trump Loosens Tongues, if Not Purse...</td>\n",
       "      <td>David Streitfeld</td>\n",
       "      <td>PALO ALTO, Calif.  —   After years of scorning...</td>\n",
       "    </tr>\n",
       "    <tr>\n",
       "      <th>1</th>\n",
       "      <td>1</td>\n",
       "      <td>20801</td>\n",
       "      <td>Russian warships ready to strike terrorists ne...</td>\n",
       "      <td>NaN</td>\n",
       "      <td>Russian warships ready to strike terrorists ne...</td>\n",
       "    </tr>\n",
       "    <tr>\n",
       "      <th>2</th>\n",
       "      <td>2</td>\n",
       "      <td>20802</td>\n",
       "      <td>#NoDAPL: Native American Leaders Vow to Stay A...</td>\n",
       "      <td>Common Dreams</td>\n",
       "      <td>Videos #NoDAPL: Native American Leaders Vow to...</td>\n",
       "    </tr>\n",
       "    <tr>\n",
       "      <th>3</th>\n",
       "      <td>3</td>\n",
       "      <td>20803</td>\n",
       "      <td>Tim Tebow Will Attempt Another Comeback, This ...</td>\n",
       "      <td>Daniel Victor</td>\n",
       "      <td>If at first you don’t succeed, try a different...</td>\n",
       "    </tr>\n",
       "    <tr>\n",
       "      <th>4</th>\n",
       "      <td>4</td>\n",
       "      <td>20804</td>\n",
       "      <td>Keiser Report: Meme Wars (E995)</td>\n",
       "      <td>Truth Broadcast Network</td>\n",
       "      <td>42 mins ago 1 Views 0 Comments 0 Likes 'For th...</td>\n",
       "    </tr>\n",
       "  </tbody>\n",
       "</table>\n",
       "</div>"
      ],
      "text/plain": [
       "   index     id                                              title  \\\n",
       "0      0  20800  Specter of Trump Loosens Tongues, if Not Purse...   \n",
       "1      1  20801  Russian warships ready to strike terrorists ne...   \n",
       "2      2  20802  #NoDAPL: Native American Leaders Vow to Stay A...   \n",
       "3      3  20803  Tim Tebow Will Attempt Another Comeback, This ...   \n",
       "4      4  20804                    Keiser Report: Meme Wars (E995)   \n",
       "\n",
       "                    author                                               text  \n",
       "0         David Streitfeld  PALO ALTO, Calif.  —   After years of scorning...  \n",
       "1                      NaN  Russian warships ready to strike terrorists ne...  \n",
       "2            Common Dreams  Videos #NoDAPL: Native American Leaders Vow to...  \n",
       "3            Daniel Victor  If at first you don’t succeed, try a different...  \n",
       "4  Truth Broadcast Network  42 mins ago 1 Views 0 Comments 0 Likes 'For th...  "
      ]
     },
     "execution_count": 209,
     "metadata": {},
     "output_type": "execute_result"
    }
   ],
   "source": [
    "X_test = test_df\n",
    "\n",
    "# remove all rows consisting of null values\n",
    "test_df = test_df.dropna()\n",
    "\n",
    "# keep the vocabulary size limited, for accuracy decreases if the vocubulary size increases.\n",
    "vocabulary_size = 5000 \n",
    "\n",
    "new_table2 = X_test.copy()\n",
    "new_table2.reset_index(inplace=True)\n",
    "\n",
    "new_table2.head(5)"
   ]
  },
  {
   "cell_type": "code",
   "execution_count": 210,
   "metadata": {},
   "outputs": [
    {
     "ename": "TypeError",
     "evalue": "expected string or bytes-like object",
     "output_type": "error",
     "traceback": [
      "\u001b[1;31m---------------------------------------------------------------------------\u001b[0m",
      "\u001b[1;31mTypeError\u001b[0m                                 Traceback (most recent call last)",
      "\u001b[1;32m~\\AppData\\Local\\Temp\\ipykernel_14164\\660309627.py\u001b[0m in \u001b[0;36m<module>\u001b[1;34m\u001b[0m\n\u001b[0;32m      4\u001b[0m \u001b[1;32mfor\u001b[0m \u001b[0mi\u001b[0m \u001b[1;32min\u001b[0m \u001b[0mrange\u001b[0m\u001b[1;33m(\u001b[0m\u001b[1;36m0\u001b[0m\u001b[1;33m,\u001b[0m \u001b[0mlen\u001b[0m\u001b[1;33m(\u001b[0m\u001b[0mnew_table2\u001b[0m\u001b[1;33m)\u001b[0m\u001b[1;33m)\u001b[0m\u001b[1;33m:\u001b[0m\u001b[1;33m\u001b[0m\u001b[1;33m\u001b[0m\u001b[0m\n\u001b[0;32m      5\u001b[0m \u001b[1;33m\u001b[0m\u001b[0m\n\u001b[1;32m----> 6\u001b[1;33m     \u001b[0mreview\u001b[0m \u001b[1;33m=\u001b[0m \u001b[0mre\u001b[0m\u001b[1;33m.\u001b[0m\u001b[0msub\u001b[0m\u001b[1;33m(\u001b[0m\u001b[1;34m'[^A-Za-z]'\u001b[0m\u001b[1;33m,\u001b[0m \u001b[1;34m' '\u001b[0m\u001b[1;33m,\u001b[0m \u001b[0mnew_table2\u001b[0m\u001b[1;33m[\u001b[0m\u001b[1;34m'title'\u001b[0m\u001b[1;33m]\u001b[0m\u001b[1;33m[\u001b[0m\u001b[0mi\u001b[0m\u001b[1;33m]\u001b[0m\u001b[1;33m)\u001b[0m\u001b[1;33m\u001b[0m\u001b[1;33m\u001b[0m\u001b[0m\n\u001b[0m\u001b[0;32m      7\u001b[0m     \u001b[0mreview\u001b[0m \u001b[1;33m=\u001b[0m \u001b[0mreview\u001b[0m\u001b[1;33m.\u001b[0m\u001b[0mlower\u001b[0m\u001b[1;33m(\u001b[0m\u001b[1;33m)\u001b[0m\u001b[1;33m\u001b[0m\u001b[1;33m\u001b[0m\u001b[0m\n\u001b[0;32m      8\u001b[0m     \u001b[0mreview\u001b[0m \u001b[1;33m=\u001b[0m \u001b[0mreview\u001b[0m\u001b[1;33m.\u001b[0m\u001b[0msplit\u001b[0m\u001b[1;33m(\u001b[0m\u001b[1;33m)\u001b[0m\u001b[1;33m\u001b[0m\u001b[1;33m\u001b[0m\u001b[0m\n",
      "\u001b[1;32m~\\anaconda3\\lib\\re.py\u001b[0m in \u001b[0;36msub\u001b[1;34m(pattern, repl, string, count, flags)\u001b[0m\n\u001b[0;32m    208\u001b[0m     \u001b[0ma\u001b[0m \u001b[0mcallable\u001b[0m\u001b[1;33m,\u001b[0m \u001b[0mit\u001b[0m\u001b[0;31m'\u001b[0m\u001b[0ms\u001b[0m \u001b[0mpassed\u001b[0m \u001b[0mthe\u001b[0m \u001b[0mMatch\u001b[0m \u001b[0mobject\u001b[0m \u001b[1;32mand\u001b[0m \u001b[0mmust\u001b[0m \u001b[1;32mreturn\u001b[0m\u001b[1;33m\u001b[0m\u001b[1;33m\u001b[0m\u001b[0m\n\u001b[0;32m    209\u001b[0m     a replacement string to be used.\"\"\"\n\u001b[1;32m--> 210\u001b[1;33m     \u001b[1;32mreturn\u001b[0m \u001b[0m_compile\u001b[0m\u001b[1;33m(\u001b[0m\u001b[0mpattern\u001b[0m\u001b[1;33m,\u001b[0m \u001b[0mflags\u001b[0m\u001b[1;33m)\u001b[0m\u001b[1;33m.\u001b[0m\u001b[0msub\u001b[0m\u001b[1;33m(\u001b[0m\u001b[0mrepl\u001b[0m\u001b[1;33m,\u001b[0m \u001b[0mstring\u001b[0m\u001b[1;33m,\u001b[0m \u001b[0mcount\u001b[0m\u001b[1;33m)\u001b[0m\u001b[1;33m\u001b[0m\u001b[1;33m\u001b[0m\u001b[0m\n\u001b[0m\u001b[0;32m    211\u001b[0m \u001b[1;33m\u001b[0m\u001b[0m\n\u001b[0;32m    212\u001b[0m \u001b[1;32mdef\u001b[0m \u001b[0msubn\u001b[0m\u001b[1;33m(\u001b[0m\u001b[0mpattern\u001b[0m\u001b[1;33m,\u001b[0m \u001b[0mrepl\u001b[0m\u001b[1;33m,\u001b[0m \u001b[0mstring\u001b[0m\u001b[1;33m,\u001b[0m \u001b[0mcount\u001b[0m\u001b[1;33m=\u001b[0m\u001b[1;36m0\u001b[0m\u001b[1;33m,\u001b[0m \u001b[0mflags\u001b[0m\u001b[1;33m=\u001b[0m\u001b[1;36m0\u001b[0m\u001b[1;33m)\u001b[0m\u001b[1;33m:\u001b[0m\u001b[1;33m\u001b[0m\u001b[1;33m\u001b[0m\u001b[0m\n",
      "\u001b[1;31mTypeError\u001b[0m: expected string or bytes-like object"
     ]
    }
   ],
   "source": [
    "\n",
    "stemmerTwo = PorterStemmer()\n",
    "corpusTwo = [] # consists of rows of stemmed words\n",
    "\n",
    "for i in range(0, len(new_table2)):\n",
    "    \n",
    "    review = re.sub('[^A-Za-z]', ' ', new_table2['title'][i])\n",
    "    review = review.lower()\n",
    "    review = review.split()\n",
    "    \n",
    "    review = [stemmerTwo.stem(word) for word in review if not word in stopwords.words('english')]\n",
    "\n",
    "    review = ' '.join(review)\n",
    "    corpusTwo.append(review)\n",
    "\n",
    "    \n",
    "# A unique value (in integers) is assigned to each word in the corpus list\n",
    "onehot_representation_Two = [one_hot(words, vocabulary_size)for words in corpusTwo]\n",
    "\n",
    "sentence_length = 20\n",
    "\n",
    "embedded_layers_Two=pad_sequences(onehot_representation_Two,padding='pre',maxlen=sentence_length)\n",
    "embedded_layers_Two"
   ]
  },
  {
   "cell_type": "code",
   "execution_count": 211,
   "metadata": {},
   "outputs": [
    {
     "name": "stdout",
     "output_type": "stream",
     "text": [
      "143/143 [==============================] - 1s 4ms/step\n",
      "143/143 [==============================] - 1s 5ms/step\n"
     ]
    },
    {
     "data": {
      "text/plain": [
       "array([0, 0, 0, ..., 0, 0, 0], dtype=int64)"
      ]
     },
     "execution_count": 211,
     "metadata": {},
     "output_type": "execute_result"
    }
   ],
   "source": [
    "loaded_model = load_model('FakeNewsDetector.h5')\n",
    "predictions = loaded_model.predict(embedded_layers_Two)\n",
    "\n",
    "check_y2 = loaded_model.predict(embedded_layers_Two)\n",
    "\n",
    "predictions = (predictions > 0.5)\n",
    "predictions = predictions.reshape(-1)\n",
    "\n",
    "encoder = LabelEncoder()\n",
    "predictions = encoder.fit_transform(predictions)\n",
    "predictions"
   ]
  },
  {
   "cell_type": "code",
   "execution_count": 212,
   "metadata": {},
   "outputs": [
    {
     "name": "stdout",
     "output_type": "stream",
     "text": [
      "predicted output:  [1.]\n",
      "It is fake!\n",
      "\n",
      "predicted output:  [0.]\n",
      "It is fake!\n",
      "\n",
      "predicted output:  [1.]\n",
      "It is reliable!\n",
      "\n",
      "predicted output:  [1.]\n",
      "It is reliable!\n",
      "\n",
      "predicted output:  [1.]\n",
      "It is fake!\n",
      "\n",
      "predicted output:  [1.]\n",
      "It is fake!\n",
      "\n",
      "predicted output:  [0.]\n",
      "It is reliable!\n",
      "\n",
      "predicted output:  [1.]\n",
      "It is fake!\n",
      "\n",
      "predicted output:  [1.]\n",
      "It is fake!\n",
      "\n",
      "predicted output:  [0.]\n",
      "It is reliable!\n",
      "\n",
      "predicted output:  [0.]\n",
      "It is reliable!\n",
      "\n",
      "predicted output:  [0.]\n",
      "It is reliable!\n",
      "\n",
      "predicted output:  [0.]\n",
      "It is fake!\n",
      "\n",
      "predicted output:  [0.]\n",
      "It is reliable!\n",
      "\n",
      "predicted output:  [1.]\n",
      "It is reliable!\n",
      "\n",
      "predicted output:  [0.]\n",
      "It is fake!\n",
      "\n",
      "predicted output:  [0.]\n",
      "It is fake!\n",
      "\n",
      "predicted output:  [1.]\n",
      "It is fake!\n",
      "\n",
      "predicted output:  [1.]\n",
      "It is fake!\n",
      "\n",
      "predicted output:  [1.]\n",
      "It is reliable!\n",
      "\n",
      "predicted output:  [1.]\n",
      "It is fake!\n",
      "\n"
     ]
    }
   ],
   "source": [
    "# check if the predicted output is fake or reliable, using unseen data from the testing dataset\n",
    "\n",
    "for i in range(50,71):\n",
    "    print(\"predicted output: \",check_y2[i].round())\n",
    "\n",
    "    if (check_y[i] == 0):\n",
    "        print(\"It is reliable!\")\n",
    "        print()\n",
    "\n",
    "    else:\n",
    "        print(\"It is fake!\")\n",
    "        print()\n",
    "\n",
    "   \n"
   ]
  },
  {
   "cell_type": "code",
   "execution_count": null,
   "metadata": {},
   "outputs": [],
   "source": []
  }
 ],
 "metadata": {
  "kernelspec": {
   "display_name": "Python 3 (ipykernel)",
   "language": "python",
   "name": "python3"
  },
  "language_info": {
   "codemirror_mode": {
    "name": "ipython",
    "version": 3
   },
   "file_extension": ".py",
   "mimetype": "text/x-python",
   "name": "python",
   "nbconvert_exporter": "python",
   "pygments_lexer": "ipython3",
   "version": "3.9.13"
  }
 },
 "nbformat": 4,
 "nbformat_minor": 1
}
